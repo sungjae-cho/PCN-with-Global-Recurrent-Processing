{
 "cells": [
  {
   "cell_type": "code",
   "execution_count": 1,
   "id": "5a887819-65dd-4aa8-9ffd-ca8edd6cefbe",
   "metadata": {},
   "outputs": [],
   "source": [
    "import os\n",
    "os.chdir('..')"
   ]
  },
  {
   "cell_type": "code",
   "execution_count": 2,
   "id": "d01973ee-04f8-4d45-938c-2fe0c58be042",
   "metadata": {},
   "outputs": [],
   "source": [
    "import torch\n",
    "import torch.nn.functional as F\n",
    "from prednet import PredNet, PredNetTied\n",
    "from dataset import load_dataset\n",
    "from helpers import generate_adversarial, extract_features, rep_path"
   ]
  },
  {
   "cell_type": "code",
   "execution_count": 3,
   "id": "3c059173-f1cd-43e4-8606-2a9cd992ee98",
   "metadata": {},
   "outputs": [],
   "source": [
    "dataset = 'MNIST'\n",
    "#dataset = 'CIFAR10'\n",
    "is_adversarial = False"
   ]
  },
  {
   "cell_type": "code",
   "execution_count": 4,
   "id": "90d54a24-f603-4b6e-9da4-b2f71959154c",
   "metadata": {},
   "outputs": [],
   "source": [
    "cls = 6\n",
    "batch_size = 128"
   ]
  },
  {
   "cell_type": "code",
   "execution_count": 5,
   "id": "147729bd-e792-4d68-b30f-4494d6f97b54",
   "metadata": {},
   "outputs": [],
   "source": [
    "if dataset == 'MNIST':\n",
    "    n_classes = 10\n",
    "    n_input_channels = 1\n",
    "    ckpt = 'checkpoint/PredNet_MNIST_0.01LR_6CLS_2REP_best_ckpt.t7'\n",
    "elif dataset == 'CIFAR10':\n",
    "    n_classes = 10\n",
    "    n_input_channels = 3\n",
    "    ckpt = 'checkpoint/PredNet_0.01LR_6CLS_1REP_best_ckpt.t7'"
   ]
  },
  {
   "cell_type": "code",
   "execution_count": 6,
   "id": "fce3c9a0-d1e6-4e7e-ac02-2ec9f1a80069",
   "metadata": {},
   "outputs": [],
   "source": [
    "(trainset, testset), (trainloader, testloader), n_input_channels, n_classes  = load_dataset(dataset, batch_size)"
   ]
  },
  {
   "cell_type": "code",
   "execution_count": 7,
   "id": "8e3f2437-5edf-4572-be2b-37ebe265731f",
   "metadata": {},
   "outputs": [],
   "source": [
    "ics = [n_input_channels,  32] # input channels\n",
    "ocs = [32, 64] # output channels\n",
    "sps = [False, False] # downsample flag\n",
    "net = PredNet(num_classes=n_classes,cls=cls,ics=ics,ocs=ocs,sps=sps)"
   ]
  },
  {
   "cell_type": "code",
   "execution_count": 8,
   "id": "df68f435-20bb-4949-8b28-40fb53734325",
   "metadata": {},
   "outputs": [],
   "source": [
    "state_dict = torch.load(ckpt)['state_dict']\n",
    "epoch = torch.load(ckpt)['epoch']\n",
    "keys = list(state_dict.keys())\n",
    "for key in keys:\n",
    "    # Remove 'module.' in the keys.\n",
    "    state_dict[key.replace('module.','')] = state_dict.pop(key)"
   ]
  },
  {
   "cell_type": "code",
   "execution_count": 9,
   "id": "d75f5bbf-33f5-4728-b58a-2e774cc722e3",
   "metadata": {},
   "outputs": [
    {
     "data": {
      "text/plain": [
       "PredNet(\n",
       "  (FFconv): ModuleList(\n",
       "    (0): FFconv2d(\n",
       "      (conv2d): Conv2d(1, 32, kernel_size=(3, 3), stride=(1, 1), padding=(1, 1), bias=False)\n",
       "    )\n",
       "    (1): FFconv2d(\n",
       "      (conv2d): Conv2d(32, 64, kernel_size=(3, 3), stride=(1, 1), padding=(1, 1), bias=False)\n",
       "    )\n",
       "  )\n",
       "  (FBconv): ModuleList(\n",
       "    (0): FBconv2d(\n",
       "      (convtranspose2d): ConvTranspose2d(32, 1, kernel_size=(3, 3), stride=(1, 1), padding=(1, 1), bias=False)\n",
       "    )\n",
       "    (1): FBconv2d(\n",
       "      (convtranspose2d): ConvTranspose2d(64, 32, kernel_size=(3, 3), stride=(1, 1), padding=(1, 1), bias=False)\n",
       "    )\n",
       "  )\n",
       "  (a0): ParameterList(  (0): Parameter containing: [torch.float32 of size 1x32x1x1 (cuda:0)])\n",
       "  (b0): ParameterList(\n",
       "      (0): Parameter containing: [torch.float32 of size 1x32x1x1 (cuda:0)]\n",
       "      (1): Parameter containing: [torch.float32 of size 1x64x1x1 (cuda:0)]\n",
       "  )\n",
       "  (fc1): Linear(in_features=64, out_features=128, bias=True)\n",
       "  (fc2): Linear(in_features=128, out_features=10, bias=True)\n",
       "  (linear): ModuleList(\n",
       "    (0): Linear(in_features=64, out_features=128, bias=True)\n",
       "    (1): Linear(in_features=128, out_features=10, bias=True)\n",
       "  )\n",
       ")"
      ]
     },
     "execution_count": 9,
     "metadata": {},
     "output_type": "execute_result"
    }
   ],
   "source": [
    "net.load_state_dict(state_dict)\n",
    "device = torch.device('cuda')\n",
    "net.to(device)\n",
    "net.eval()"
   ]
  },
  {
   "cell_type": "code",
   "execution_count": 10,
   "id": "b8ca0de5-872c-4ab9-a865-e0f65b773f8a",
   "metadata": {},
   "outputs": [
    {
     "name": "stdout",
     "output_type": "stream",
     "text": [
      "\n",
      "TEST\n",
      "Testing: Epoch=96 | Loss: 0.019 |  Acc: 99.610% (9961/10000)\n",
      "\n"
     ]
    }
   ],
   "source": [
    "import torch.nn as nn\n",
    "from torch.autograd import Variable\n",
    "\n",
    "criterion = nn.CrossEntropyLoss()\n",
    "\n",
    "print('\\nTEST')\n",
    "use_cuda = True\n",
    "net.eval()\n",
    "test_loss = 0\n",
    "correct = 0\n",
    "total = 0\n",
    "layers = ['conv1', 'conv2', 'fc1', 'fc2']\n",
    "dict_features = {layer:list() for layer in layers}\n",
    "labels = list()\n",
    "for batch_idx, (inputs, targets) in enumerate(testloader):\n",
    "    activation = {}\n",
    "    def get_activation(name):\n",
    "        def hook(net, input, output):\n",
    "            activation[name] = output.detach()\n",
    "        return hook\n",
    "\n",
    "    net.FFconv[0].conv2d.register_forward_hook(get_activation('conv1'))\n",
    "    net.FFconv[1].conv2d.register_forward_hook(get_activation('conv2'))\n",
    "    net.fc1.register_forward_hook(get_activation('fc1'))\n",
    "    net.fc2.register_forward_hook(get_activation('fc2'))\n",
    "    \n",
    "    if use_cuda:\n",
    "        inputs, targets = inputs.cuda(), targets.cuda()\n",
    "    inputs, targets = Variable(inputs, volatile=False, requires_grad=False), Variable(targets, requires_grad=False)\n",
    "    if is_adversarial:\n",
    "        inputs = generate_adversarial(net, inputs, targets)\n",
    "    with torch.no_grad():    \n",
    "        outputs = net(inputs)\n",
    "    loss = criterion(outputs, targets)\n",
    "\n",
    "    test_loss += loss\n",
    "    _, predicted = torch.max(outputs.data, 1)\n",
    "    total += targets.size(0)\n",
    "    correct += predicted.eq(targets.data).cpu().sum()\n",
    "\n",
    "    for l in layers:\n",
    "        dict_features[l].append(activation[l])\n",
    "    labels.append(targets)\n",
    "\n",
    "    input_last_1 = inputs\n",
    "\n",
    "statstr = 'Testing: Epoch=%d | Loss: %.3f |  Acc: %.3f%% (%d/%d)' \\\n",
    "          % (epoch, test_loss/(batch_idx+1), 100.*(float)(correct)/(float)(total), correct, total)\n",
    "print(statstr+'\\n')"
   ]
  },
  {
   "cell_type": "code",
   "execution_count": 11,
   "id": "dd189b71-e5f5-4b3b-9690-def3e4231340",
   "metadata": {},
   "outputs": [
    {
     "data": {
      "text/plain": [
       "PredNet(\n",
       "  (FFconv): ModuleList(\n",
       "    (0): FFconv2d(\n",
       "      (conv2d): Conv2d(1, 32, kernel_size=(3, 3), stride=(1, 1), padding=(1, 1), bias=False)\n",
       "    )\n",
       "    (1): FFconv2d(\n",
       "      (conv2d): Conv2d(32, 64, kernel_size=(3, 3), stride=(1, 1), padding=(1, 1), bias=False)\n",
       "    )\n",
       "  )\n",
       "  (FBconv): ModuleList(\n",
       "    (0): FBconv2d(\n",
       "      (convtranspose2d): ConvTranspose2d(32, 1, kernel_size=(3, 3), stride=(1, 1), padding=(1, 1), bias=False)\n",
       "    )\n",
       "    (1): FBconv2d(\n",
       "      (convtranspose2d): ConvTranspose2d(64, 32, kernel_size=(3, 3), stride=(1, 1), padding=(1, 1), bias=False)\n",
       "    )\n",
       "  )\n",
       "  (a0): ParameterList(  (0): Parameter containing: [torch.float32 of size 1x32x1x1 (cuda:0)])\n",
       "  (b0): ParameterList(\n",
       "      (0): Parameter containing: [torch.float32 of size 1x32x1x1 (cuda:0)]\n",
       "      (1): Parameter containing: [torch.float32 of size 1x64x1x1 (cuda:0)]\n",
       "  )\n",
       "  (fc1): Linear(in_features=64, out_features=128, bias=True)\n",
       "  (fc2): Linear(in_features=128, out_features=10, bias=True)\n",
       "  (linear): ModuleList(\n",
       "    (0): Linear(in_features=64, out_features=128, bias=True)\n",
       "    (1): Linear(in_features=128, out_features=10, bias=True)\n",
       "  )\n",
       ")"
      ]
     },
     "execution_count": 11,
     "metadata": {},
     "output_type": "execute_result"
    }
   ],
   "source": [
    "net"
   ]
  },
  {
   "cell_type": "code",
   "execution_count": 12,
   "id": "ce679749-6724-41d4-bf73-578a55645cd0",
   "metadata": {},
   "outputs": [
    {
     "name": "stdout",
     "output_type": "stream",
     "text": [
      "dict_features[conv1].shape torch.Size([10000, 32, 28, 28])\n",
      "dict_features[conv2].shape torch.Size([10000, 64, 28, 28])\n",
      "dict_features[fc1].shape torch.Size([10000, 128])\n",
      "dict_features[fc2].shape torch.Size([10000, 10])\n"
     ]
    }
   ],
   "source": [
    "for layer in dict_features.keys():\n",
    "    dict_features[layer] = torch.concat(dict_features[layer], dim=0)\n",
    "    print(f'dict_features[{layer}].shape', dict_features[layer].shape)"
   ]
  },
  {
   "cell_type": "code",
   "execution_count": 13,
   "id": "cce8aa16-0142-4e07-bd04-ba33adc26cba",
   "metadata": {},
   "outputs": [
    {
     "name": "stdout",
     "output_type": "stream",
     "text": [
      "labels.shape torch.Size([10000])\n"
     ]
    }
   ],
   "source": [
    "labels = torch.concat(labels, dim=0)\n",
    "print('labels.shape', labels.shape)"
   ]
  },
  {
   "cell_type": "code",
   "execution_count": 14,
   "id": "50b2a656-4b74-417c-871f-c58146d6a020",
   "metadata": {},
   "outputs": [
    {
     "data": {
      "text/plain": [
       "tensor([7, 2, 1,  ..., 4, 5, 6], device='cuda:0')"
      ]
     },
     "execution_count": 14,
     "metadata": {},
     "output_type": "execute_result"
    }
   ],
   "source": [
    "labels"
   ]
  },
  {
   "cell_type": "code",
   "execution_count": 15,
   "id": "54586a5b-1126-4f04-88bd-38f9a9ea1782",
   "metadata": {},
   "outputs": [],
   "source": [
    "dict_features['fc2'] = F.softmax(dict_features['fc2'], dim=-1)"
   ]
  },
  {
   "cell_type": "code",
   "execution_count": 16,
   "id": "d03e9358-a5c1-46a9-877d-350bf7390d62",
   "metadata": {},
   "outputs": [],
   "source": [
    "features = {'feedback': dict_features}\n",
    "model_colors = {'feedback': 'r'}"
   ]
  },
  {
   "cell_type": "code",
   "execution_count": 17,
   "id": "c2cc48bf-7e85-45ee-b5b0-2ee459f11c43",
   "metadata": {
    "scrolled": true
   },
   "outputs": [],
   "source": [
    "#rep_path(features, model_colors, labels)"
   ]
  },
  {
   "cell_type": "code",
   "execution_count": 18,
   "id": "e2d6edc1-a8cd-44a9-9f17-b61c2c21d970",
   "metadata": {},
   "outputs": [],
   "source": [
    "from helpers import model_download"
   ]
  },
  {
   "cell_type": "code",
   "execution_count": 19,
   "id": "ee1ee320-b6a4-49ab-b241-e84c2d22003f",
   "metadata": {},
   "outputs": [],
   "source": [
    "import torch\n",
    "import torch.nn as nn\n",
    "import torch.nn.functional as F\n",
    "\n",
    "class Net(nn.Module):\n",
    "    \"\"\"\n",
    "    A neural network model for image classification, consisting of two convolutional layers,\n",
    "    followed by two fully connected layers with dropout regularization.\n",
    "\n",
    "    Methods:\n",
    "    - forward(input): Defines the forward pass of the network.\n",
    "    \"\"\"\n",
    "\n",
    "    def __init__(self):\n",
    "        \"\"\"\n",
    "        Initializes the network layers.\n",
    "\n",
    "        Layers:\n",
    "        - conv1: First convolutional layer with 1 input channel, 32 output channels, and a 3x3 kernel.\n",
    "        - conv2: Second convolutional layer with 32 input channels, 64 output channels, and a 3x3 kernel.\n",
    "        - dropout1: Dropout layer with a dropout probability of 0.25.\n",
    "        - dropout2: Dropout layer with a dropout probability of 0.5.\n",
    "        - fc1: First fully connected layer with 9216 input features and 128 output features.\n",
    "        - fc2: Second fully connected layer with 128 input features and 10 output features.\n",
    "        \"\"\"\n",
    "        super(Net, self).__init__()\n",
    "        self.conv1 = nn.Conv2d(1, 32, 3, 1)\n",
    "        self.conv2 = nn.Conv2d(32, 64, 3, 1)\n",
    "        self.dropout1 = nn.Dropout(0.25)\n",
    "        self.dropout2 = nn.Dropout(0.5)\n",
    "        self.fc1 = nn.Linear(9216, 128)\n",
    "        self.fc2 = nn.Linear(128, 10)\n",
    "\n",
    "    def forward(self, input):\n",
    "        \"\"\"\n",
    "        Defines the forward pass of the network.\n",
    "\n",
    "        Inputs:\n",
    "        - input (torch.Tensor): Input tensor of shape (batch_size, 1, height, width).\n",
    "\n",
    "        Outputs:\n",
    "        - output (torch.Tensor): Output tensor of shape (batch_size, 10) representing the class probabilities for each input sample.\n",
    "        \"\"\"\n",
    "        x = self.conv1(input)\n",
    "        x = F.relu(x)\n",
    "        x = self.conv2(x)\n",
    "        x = F.relu(x)\n",
    "        x = F.max_pool2d(x, 2)\n",
    "        x = self.dropout1(x)\n",
    "        x = torch.flatten(x, 1)\n",
    "        x = self.fc1(x)\n",
    "        x = F.relu(x)\n",
    "        x = self.dropout2(x)\n",
    "        x = self.fc2(x)\n",
    "        output = F.softmax(x, dim=1)\n",
    "        return output"
   ]
  },
  {
   "cell_type": "code",
   "execution_count": 20,
   "id": "5ea7e579-1b45-459b-9b40-d3af7bda0d76",
   "metadata": {},
   "outputs": [],
   "source": [
    "model_download()"
   ]
  },
  {
   "cell_type": "code",
   "execution_count": 21,
   "id": "1d7c877a-4621-40b2-8c54-df905281e271",
   "metadata": {},
   "outputs": [],
   "source": [
    "net_ff = torch.load(\"standard_model.pth\", map_location=torch.device(\"cuda\"))"
   ]
  },
  {
   "cell_type": "code",
   "execution_count": 22,
   "id": "bdb67f78-e737-462f-a28a-461e6d8a6ae5",
   "metadata": {
    "scrolled": true
   },
   "outputs": [
    {
     "data": {
      "text/plain": [
       "Net(\n",
       "  (conv1): Conv2d(1, 32, kernel_size=(3, 3), stride=(1, 1))\n",
       "  (conv2): Conv2d(32, 64, kernel_size=(3, 3), stride=(1, 1))\n",
       "  (dropout1): Dropout(p=0.25, inplace=False)\n",
       "  (dropout2): Dropout(p=0.5, inplace=False)\n",
       "  (fc1): Linear(in_features=9216, out_features=128, bias=True)\n",
       "  (fc2): Linear(in_features=128, out_features=10, bias=True)\n",
       ")"
      ]
     },
     "execution_count": 22,
     "metadata": {},
     "output_type": "execute_result"
    }
   ],
   "source": [
    "net_ff"
   ]
  },
  {
   "cell_type": "code",
   "execution_count": 23,
   "id": "f8327233-4f21-4fe3-9294-24f81e000859",
   "metadata": {},
   "outputs": [
    {
     "name": "stdout",
     "output_type": "stream",
     "text": [
      "\n",
      "TEST\n",
      "Testing: Epoch=96 | Loss: 1.477 |  Acc: 98.720% (9872/10000)\n",
      "\n"
     ]
    }
   ],
   "source": [
    "import torch.nn as nn\n",
    "from torch.autograd import Variable\n",
    "\n",
    "criterion = nn.CrossEntropyLoss()\n",
    "\n",
    "print('\\nTEST')\n",
    "use_cuda = True\n",
    "net.eval()\n",
    "test_loss = 0\n",
    "correct = 0\n",
    "total = 0\n",
    "return_layers = ['input', 'conv1', 'conv2', 'fc1', 'fc2']\n",
    "dict_features_ff = None\n",
    "labels = list()\n",
    "for batch_idx, (inputs, targets) in enumerate(testloader):\n",
    "    if use_cuda:\n",
    "        inputs, targets = inputs.cuda(), targets.cuda()\n",
    "    inputs, targets = Variable(inputs, volatile=False, requires_grad=False), Variable(targets, requires_grad=False)\n",
    "    if is_adversarial:\n",
    "        inputs = generate_adversarial(net, inputs, targets)\n",
    "    with torch.no_grad():    \n",
    "        outputs = net_ff(inputs)\n",
    "        features = extract_features(net_ff, inputs, return_layers)\n",
    "    loss = criterion(outputs, targets)\n",
    "\n",
    "    test_loss += loss\n",
    "    _, predicted = torch.max(outputs.data, 1)\n",
    "    total += targets.size(0)\n",
    "    correct += predicted.eq(targets.data).cpu().sum()\n",
    "\n",
    "    \n",
    "    for layer in features.keys():\n",
    "        if dict_features_ff is None:\n",
    "            dict_features_ff = dict()\n",
    "        if layer not in dict_features_ff.keys():\n",
    "            dict_features_ff[layer] = list()\n",
    "        dict_features_ff[layer].append(features[layer])\n",
    "    labels.append(targets)\n",
    "\n",
    "    input_last_2 = inputs\n",
    "\n",
    "statstr = 'Testing: Epoch=%d | Loss: %.3f |  Acc: %.3f%% (%d/%d)' \\\n",
    "          % (epoch, test_loss/(batch_idx+1), 100.*(float)(correct)/(float)(total), correct, total)\n",
    "print(statstr+'\\n')"
   ]
  },
  {
   "cell_type": "code",
   "execution_count": 24,
   "id": "8dce228a-7bd3-464e-9dd0-7c8bf03f0843",
   "metadata": {},
   "outputs": [
    {
     "name": "stdout",
     "output_type": "stream",
     "text": [
      "dict_features_ff[input].shape torch.Size([10000, 1, 28, 28])\n",
      "dict_features_ff[conv1].shape torch.Size([10000, 32, 26, 26])\n",
      "dict_features_ff[conv2].shape torch.Size([10000, 64, 24, 24])\n",
      "dict_features_ff[fc1].shape torch.Size([10000, 128])\n",
      "dict_features_ff[fc2].shape torch.Size([10000, 10])\n"
     ]
    }
   ],
   "source": [
    "for layer in dict_features_ff.keys():\n",
    "    dict_features_ff[layer] = torch.concat(dict_features_ff[layer], dim=0)\n",
    "    print(f'dict_features_ff[{layer}].shape', dict_features_ff[layer].shape)"
   ]
  },
  {
   "cell_type": "code",
   "execution_count": 25,
   "id": "d73e41eb-521f-41d4-bb36-0fd583e553b9",
   "metadata": {},
   "outputs": [
    {
     "data": {
      "text/plain": [
       "dict_keys(['input', 'conv1', 'conv2', 'fc1', 'fc2'])"
      ]
     },
     "execution_count": 25,
     "metadata": {},
     "output_type": "execute_result"
    }
   ],
   "source": [
    "dict_features_ff.keys()"
   ]
  },
  {
   "cell_type": "code",
   "execution_count": 26,
   "id": "cf904327-97f1-4c9a-a3ce-ae1612b708ee",
   "metadata": {},
   "outputs": [
    {
     "name": "stdout",
     "output_type": "stream",
     "text": [
      "labels.shape torch.Size([10000])\n"
     ]
    }
   ],
   "source": [
    "labels = torch.concat(labels, dim=0)\n",
    "print('labels.shape', labels.shape)"
   ]
  },
  {
   "cell_type": "code",
   "execution_count": 27,
   "id": "91534f4a-d56e-485f-b5ba-aa6d4630798c",
   "metadata": {},
   "outputs": [
    {
     "data": {
      "text/plain": [
       "dict_keys(['conv1', 'conv2', 'fc1', 'fc2'])"
      ]
     },
     "execution_count": 27,
     "metadata": {},
     "output_type": "execute_result"
    }
   ],
   "source": [
    "dict_features.keys()"
   ]
  },
  {
   "cell_type": "code",
   "execution_count": 28,
   "id": "c06d58a6-a86b-455c-803c-7ccbed16d122",
   "metadata": {},
   "outputs": [],
   "source": [
    "dict_features_ff['fc2'] = F.softmax(dict_features_ff['fc2'], dim=-1)"
   ]
  },
  {
   "cell_type": "code",
   "execution_count": 29,
   "id": "20319003-7e4c-43f7-aebb-e9cc2a1b7be7",
   "metadata": {},
   "outputs": [],
   "source": [
    "dict_features['input'] = dict_features_ff['input']"
   ]
  },
  {
   "cell_type": "code",
   "execution_count": 30,
   "id": "ca9ddc89-3296-4c5e-b844-d66b843f973b",
   "metadata": {},
   "outputs": [],
   "source": [
    "# Reorder layers from the bottom.\n",
    "dict_features_ff = {l:dict_features_ff[l] for l in return_layers} \n",
    "dict_features = {l:dict_features[l] for l in return_layers}"
   ]
  },
  {
   "cell_type": "code",
   "execution_count": 31,
   "id": "6a58ee4a-df94-45a8-a407-05e744c77eb9",
   "metadata": {},
   "outputs": [
    {
     "name": "stdout",
     "output_type": "stream",
     "text": [
      "dict_keys(['input', 'conv1', 'conv2', 'fc1', 'fc2'])\n",
      "dict_keys(['input', 'conv1', 'conv2', 'fc1', 'fc2'])\n"
     ]
    }
   ],
   "source": [
    "print(dict_features_ff.keys())\n",
    "print(dict_features.keys())"
   ]
  },
  {
   "cell_type": "code",
   "execution_count": 32,
   "id": "fb5bc93f-4439-4c98-8926-88e5a7813d47",
   "metadata": {},
   "outputs": [],
   "source": [
    "features = {'feedforward': dict_features_ff, 'PCN': dict_features}\n",
    "model_colors = {'feedforward': 'b', 'PCN':'r'}"
   ]
  },
  {
   "cell_type": "code",
   "execution_count": 33,
   "id": "79dee767-c465-4c87-89a4-fe925dda493b",
   "metadata": {},
   "outputs": [
    {
     "name": "stderr",
     "output_type": "stream",
     "text": [
      "/home/sjcho/Projects/PCN-with-Global-Recurrent-Processing/helpers.py:199: RuntimeWarning: invalid value encountered in arccos\n",
      "  rdms_comp = np.arccos(rdms_comp)\n",
      "/home/sjcho/Projects/PCN-with-Global-Recurrent-Processing/helpers.py:254: UserWarning: This figure includes Axes that are not compatible with tight_layout, so results might be incorrect.\n",
      "  fig.tight_layout()\n"
     ]
    },
    {
     "data": {
      "image/png": "[encoded data removed]",
      "text/plain": [
       "<Figure size 800x400 with 3 Axes>"
      ]
     },
     "metadata": {},
     "output_type": "display_data"
    }
   ],
   "source": [
    "rep_path(features, model_colors, labels)"
   ]
  }
 ],
 "metadata": {
  "kernelspec": {
   "display_name": "Python 3 (ipykernel)",
   "language": "python",
   "name": "python3"
  },
  "language_info": {
   "codemirror_mode": {
    "name": "ipython",
    "version": 3
   },
   "file_extension": ".py",
   "mimetype": "text/x-python",
   "name": "python",
   "nbconvert_exporter": "python",
   "pygments_lexer": "ipython3",
   "version": "3.10.12"
  },
  "widgets": {
   "application/vnd.jupyter.widget-state+json": {
    "state": {},
    "version_major": 2,
    "version_minor": 0
   }
  }
 },
 "nbformat": 4,
 "nbformat_minor": 5
}
